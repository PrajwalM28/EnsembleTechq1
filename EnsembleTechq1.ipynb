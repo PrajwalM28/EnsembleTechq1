{
 "cells": [
  {
   "cell_type": "markdown",
   "id": "8984afa9-40a3-48e6-88f5-6290efd512b1",
   "metadata": {},
   "source": [
    "# Q1.\n",
    "### What is an ensemble technique in machine learning?"
   ]
  },
  {
   "cell_type": "markdown",
   "id": "74636b40-0367-434b-8358-8160188aac38",
   "metadata": {},
   "source": [
    "- Ensemble techniques in machine learning involve combining multiple models to improve predictive performance."
   ]
  },
  {
   "cell_type": "markdown",
   "id": "26838652-6767-4b30-9b75-71d3a3dce16f",
   "metadata": {},
   "source": [
    "# Q2.\n",
    "### Why are ensemble techniques used in machine learning?"
   ]
  },
  {
   "cell_type": "markdown",
   "id": "2129b4c2-73a8-409d-ab0b-a022c9f38f58",
   "metadata": {},
   "source": [
    "- Ensemble techniques are used in machine learning because they often lead to better predictive performance compared to individual models. By combining multiple models, ensemble methods can reduce overfitting, increase robustness, and capture different aspects of the data, leading to more accurate predictions."
   ]
  },
  {
   "cell_type": "markdown",
   "id": "355d6dc7-6bcb-473b-97c6-2ee59e85b5c8",
   "metadata": {},
   "source": [
    "# Q3.\n",
    "### What is bagging?"
   ]
  },
  {
   "cell_type": "markdown",
   "id": "91869c52-8139-484f-ad80-fc402ce70761",
   "metadata": {},
   "source": [
    "-  is an ensemble technique where multiple models are trained on different subsets of the training data, which are sampled with replacement. The final prediction is typically obtained by averaging the predictions of all the models."
   ]
  },
  {
   "cell_type": "markdown",
   "id": "1367339d-ccc8-430f-b32c-53b073cb8ab5",
   "metadata": {},
   "source": [
    "# Q4.\n",
    "### What is boosting?"
   ]
  },
  {
   "cell_type": "markdown",
   "id": "7d1eda52-4511-4be0-889f-1abcd311c840",
   "metadata": {},
   "source": [
    "- where models are trained sequentially, with each new model focusing on the examples that the previous models struggled with. The final prediction is a weighted sum of the predictions of all the models."
   ]
  },
  {
   "cell_type": "markdown",
   "id": "cdd6151f-486a-4316-b018-9e7fcd9dfc4b",
   "metadata": {},
   "source": [
    "# Q5.\n",
    "### What are the benefits of using ensemble techniques?"
   ]
  },
  {
   "cell_type": "markdown",
   "id": "d9b3dd86-e29b-4dc8-af37-5eb7d1ff70e3",
   "metadata": {},
   "source": [
    "-  include improved predictive performance, increased robustness against overfitting, better generalization to new data, and the ability to capture complex relationships in the data."
   ]
  },
  {
   "cell_type": "markdown",
   "id": "70b1e03f-8c63-45b0-b725-b5594be6ab82",
   "metadata": {},
   "source": [
    "# Q6.\n",
    "### Are ensemble techniques always better than individual models?"
   ]
  },
  {
   "cell_type": "markdown",
   "id": "dd2aaea3-92d5-4d6e-8fcd-66dfee424f7b",
   "metadata": {},
   "source": [
    "- While ensemble techniques often outperform individual models, there can be cases where they do not provide significant improvements or even perform worse, especially if the individual models are already highly accurate or if there is high correlation between the models in the ensemble."
   ]
  },
  {
   "cell_type": "markdown",
   "id": "33f6f8aa-061c-488d-bc75-8ecc8202ec0b",
   "metadata": {},
   "source": [
    "# Q7.\n",
    "### How is the confidence interval calculated using bootstrap?"
   ]
  },
  {
   "cell_type": "markdown",
   "id": "e7a64795-ea15-4ce3-a88f-7d0eee859a6b",
   "metadata": {},
   "source": [
    "- The confidence interval using bootstrap is calculated by repeatedly resampling the dataset with replacement, computing the statistic of interest (e.g., mean, median) for each resampled dataset, and then determining the range of values that contain a specified proportion of the computed statistics."
   ]
  },
  {
   "cell_type": "markdown",
   "id": "ad49fbb4-1193-4521-84fd-48ac2de51798",
   "metadata": {},
   "source": [
    "# Q8.\n",
    "### How does bootstrap work and What are the steps involved in bootstrap?"
   ]
  },
  {
   "cell_type": "markdown",
   "id": "de6c55e8-1db3-4a06-aef3-734f4969ba14",
   "metadata": {},
   "source": [
    "- Bootstrap works by repeatedly sampling from the dataset with replacement to create multiple bootstrap samples. \n",
    "\n",
    "- Randomly select n samples from the dataset with replacement.\n",
    "- Compute the statistic of interest for the bootstrap sample.\n",
    "- Repeat the above steps B times to obtain B bootstrap statistics.\n",
    "- Calculate the confidence interval from the bootstrap staistics."
   ]
  },
  {
   "cell_type": "markdown",
   "id": "9c2851b8-d6b6-427c-9902-37b04e0d68cc",
   "metadata": {},
   "source": [
    "# Q9.\n",
    "### A researcher wants to estimate the mean height of a population of trees. They measure the height of a sample of 50 trees and obtain a mean height of 15 meters and a standard deviation of 2 meters. Use bootstrap to estimate the 95% confidence interval for the population mean height."
   ]
  },
  {
   "cell_type": "markdown",
   "id": "173cb8f5-cbeb-4dfa-ab7e-986f3cf2243a",
   "metadata": {},
   "source": [
    "- Randomly sample 50 heights with replacement from the given sample.\n",
    "- Calculate the mean height for each bootstrap sample.\n",
    "- Repeat the above steps a large number of times.\n",
    "- Sort the bootstrap sample means.\n",
    "- Find the 2.5th and 97.5th percentiles of the sorted bootstrap sample means to determine the lower and upper bounds of the confidence interval."
   ]
  }
 ],
 "metadata": {
  "kernelspec": {
   "display_name": "Python 3 (ipykernel)",
   "language": "python",
   "name": "python3"
  },
  "language_info": {
   "codemirror_mode": {
    "name": "ipython",
    "version": 3
   },
   "file_extension": ".py",
   "mimetype": "text/x-python",
   "name": "python",
   "nbconvert_exporter": "python",
   "pygments_lexer": "ipython3",
   "version": "3.10.8"
  }
 },
 "nbformat": 4,
 "nbformat_minor": 5
}
